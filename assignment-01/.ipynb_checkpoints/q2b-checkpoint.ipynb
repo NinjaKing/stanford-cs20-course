{
 "cells": [
  {
   "cell_type": "code",
   "execution_count": 1,
   "metadata": {
    "collapsed": false
   },
   "outputs": [],
   "source": [
    "\"\"\" Starter code for simple logistic regression model for MNIST\n",
    "with tf.data module\n",
    "MNIST dataset: yann.lecun.com/exdb/mnist/\n",
    "Created by Chip Huyen (chiphuyen@cs.stanford.edu)\n",
    "CS20: \"TensorFlow for Deep Learning Research\"\n",
    "cs20.stanford.edu\n",
    "Lecture 03\n",
    "\"\"\"\n",
    "import os\n",
    "os.environ['TF_CPP_MIN_LOG_LEVEL']='2'\n",
    "\n",
    "import numpy as np\n",
    "import tensorflow as tf\n",
    "import time\n",
    "\n",
    "import utils"
   ]
  },
  {
   "cell_type": "code",
   "execution_count": 17,
   "metadata": {
    "collapsed": true
   },
   "outputs": [],
   "source": [
    "# Define paramaters for the model\n",
    "learning_rate = 0.02\n",
    "batch_size = 128\n",
    "n_epochs = 50\n",
    "n_train = 60000\n",
    "n_test = 10000"
   ]
  },
  {
   "cell_type": "code",
   "execution_count": 5,
   "metadata": {
    "collapsed": false
   },
   "outputs": [],
   "source": [
    "# Step 1: Read in data\n",
    "mnist_folder = 'data/not-mnist'\n",
    "#utils.download_mnist(mnist_folder)\n",
    "train, val, test = utils.read_mnist(mnist_folder, flatten=True)"
   ]
  },
  {
   "cell_type": "code",
   "execution_count": 6,
   "metadata": {
    "collapsed": true
   },
   "outputs": [],
   "source": [
    "# Step 2: Create datasets and iterator\n",
    "# create training Dataset and batch it\n",
    "train_data = tf.data.Dataset.from_tensor_slices(train)\n",
    "train_data = train_data.shuffle(500) # if you want to shuffle your data\n",
    "train_data = train_data.batch(batch_size)"
   ]
  },
  {
   "cell_type": "code",
   "execution_count": 7,
   "metadata": {
    "collapsed": true
   },
   "outputs": [],
   "source": [
    "# create testing Dataset and batch it\n",
    "test_data = tf.data.Dataset.from_tensor_slices(test)\n",
    "test_data = test_data.batch(batch_size)"
   ]
  },
  {
   "cell_type": "code",
   "execution_count": 8,
   "metadata": {
    "collapsed": true
   },
   "outputs": [],
   "source": [
    "# create one iterator and initialize it with different datasets\n",
    "iterator = tf.data.Iterator.from_structure(train_data.output_types, \n",
    "                                           train_data.output_shapes)\n",
    "img, label = iterator.get_next()\n",
    "\n",
    "train_init = iterator.make_initializer(train_data)\t# initializer for train_data\n",
    "test_init = iterator.make_initializer(test_data)\t# initializer for train_data"
   ]
  },
  {
   "cell_type": "code",
   "execution_count": 9,
   "metadata": {
    "collapsed": false
   },
   "outputs": [
    {
     "data": {
      "text/plain": [
       "TensorShape([Dimension(None), Dimension(784)])"
      ]
     },
     "execution_count": 9,
     "metadata": {},
     "output_type": "execute_result"
    }
   ],
   "source": [
    "train_data.output_shapes[0]"
   ]
  },
  {
   "cell_type": "code",
   "execution_count": 10,
   "metadata": {
    "collapsed": true
   },
   "outputs": [],
   "source": [
    "# Step 3: create weights and bias\n",
    "# w is initialized to random variables with mean of 0, stddev of 0.01\n",
    "# b is initialized to 0\n",
    "# shape of w depends on the dimension of X and Y so that Y = tf.matmul(X, w)\n",
    "# shape of b depends on Y\n",
    "w = tf.get_variable(shape=(784, 10), name=\"w\", initializer=tf.random_uniform_initializer(0, 0.01))\n",
    "b = tf.get_variable(shape=(1, 10), name=\"b\", initializer=tf.zeros_initializer())"
   ]
  },
  {
   "cell_type": "code",
   "execution_count": 11,
   "metadata": {
    "collapsed": true
   },
   "outputs": [],
   "source": [
    "# Step 4: build model\n",
    "# the model that returns the logits.\n",
    "# this logits will be later passed through softmax layer\n",
    "logits = tf.matmul(img, w) + b"
   ]
  },
  {
   "cell_type": "code",
   "execution_count": 12,
   "metadata": {
    "collapsed": false
   },
   "outputs": [],
   "source": [
    "# Step 5: define loss function\n",
    "# use cross entropy of softmax of logits as the loss function\n",
    "loss = tf.reduce_mean(tf.nn.softmax_cross_entropy_with_logits_v2(logits=logits, labels=label), name=\"loss\")"
   ]
  },
  {
   "cell_type": "code",
   "execution_count": 13,
   "metadata": {
    "collapsed": true
   },
   "outputs": [],
   "source": [
    "# Step 6: define optimizer\n",
    "# using Adamn Optimizer with pre-defined learning rate to minimize loss\n",
    "optimizer = tf.train.AdamOptimizer(learning_rate).minimize(loss)"
   ]
  },
  {
   "cell_type": "code",
   "execution_count": 18,
   "metadata": {
    "collapsed": false
   },
   "outputs": [
    {
     "name": "stdout",
     "output_type": "stream",
     "text": [
      "Average loss epoch 0: 0.7822071261877237\n",
      "Average loss epoch 1: 0.7350290422522745\n",
      "Average loss epoch 2: 0.7346450470214666\n",
      "Average loss epoch 3: 0.7331762111464212\n",
      "Average loss epoch 4: 0.7277874517579411\n",
      "Average loss epoch 5: 0.7360644364079764\n",
      "Average loss epoch 6: 0.7217312092004821\n",
      "Average loss epoch 7: 0.731551160507424\n",
      "Average loss epoch 8: 0.7142372374617776\n",
      "Average loss epoch 9: 0.7386562434046767\n",
      "Average loss epoch 10: 0.7109834635673568\n",
      "Average loss epoch 11: 0.7358285506104314\n",
      "Average loss epoch 12: 0.7175513536431068\n",
      "Average loss epoch 13: 0.7146795205598654\n",
      "Average loss epoch 14: 0.7083705633185631\n",
      "Average loss epoch 15: 0.7155892591836841\n",
      "Average loss epoch 16: 0.7123416190923646\n",
      "Average loss epoch 17: 0.7120157774797705\n",
      "Average loss epoch 18: 0.7084919637025788\n",
      "Average loss epoch 19: 0.6938195307587468\n",
      "Average loss epoch 20: 0.7048720271781433\n",
      "Average loss epoch 21: 0.7071929438169613\n",
      "Average loss epoch 22: 0.711730506738951\n",
      "Average loss epoch 23: 0.7120716036752213\n",
      "Average loss epoch 24: 0.7042505429927692\n",
      "Average loss epoch 25: 0.7209863177565641\n",
      "Average loss epoch 26: 0.707133738246075\n",
      "Average loss epoch 27: 0.7031950151504472\n",
      "Average loss epoch 28: 0.7010690142248952\n",
      "Average loss epoch 29: 0.7061393980370011\n",
      "Average loss epoch 30: 0.7085724679536598\n",
      "Average loss epoch 31: 0.7125503511622895\n",
      "Average loss epoch 32: 0.7040728983490966\n",
      "Average loss epoch 33: 0.7062970736692118\n",
      "Average loss epoch 34: 0.6972602693840515\n",
      "Average loss epoch 35: 0.7009458216123803\n",
      "Average loss epoch 36: 0.7123530018468236\n",
      "Average loss epoch 37: 0.7139009694027346\n",
      "Average loss epoch 38: 0.6969318914552067\n",
      "Average loss epoch 39: 0.7049274068239123\n",
      "Average loss epoch 40: 0.7092433210029159\n",
      "Average loss epoch 41: 0.6949027667211932\n",
      "Average loss epoch 42: 0.7049694416827934\n",
      "Average loss epoch 43: 0.6959311730639879\n",
      "Average loss epoch 44: 0.704929789831472\n",
      "Average loss epoch 45: 0.7090384480565093\n",
      "Average loss epoch 46: 0.7070878037879633\n",
      "Average loss epoch 47: 0.7080782256847205\n",
      "Average loss epoch 48: 0.7007526610479798\n",
      "Average loss epoch 49: 0.7054887590713279\n",
      "Total time: 40.4771842956543 seconds\n",
      "Accuracy 0.8802\n"
     ]
    }
   ],
   "source": [
    "# Step 7: calculate accuracy with test set\n",
    "preds = tf.nn.softmax(logits)\n",
    "correct_preds = tf.equal(tf.argmax(preds, 1), tf.argmax(label, 1))\n",
    "accuracy = tf.reduce_sum(tf.cast(correct_preds, tf.float32))\n",
    "\n",
    "writer = tf.summary.FileWriter('./graphs/logreg', tf.get_default_graph())\n",
    "with tf.Session() as sess:\n",
    "   \n",
    "    start_time = time.time()\n",
    "    sess.run(tf.global_variables_initializer())\n",
    "\n",
    "    # train the model n_epochs times\n",
    "    for i in range(n_epochs): \t\n",
    "        sess.run(train_init)\t# drawing samples from train_data\n",
    "        total_loss = 0\n",
    "        n_batches = 0\n",
    "        try:\n",
    "            while True:\n",
    "                _, l = sess.run([optimizer, loss])\n",
    "                total_loss += l\n",
    "                n_batches += 1\n",
    "        except tf.errors.OutOfRangeError:\n",
    "            pass\n",
    "        print('Average loss epoch {0}: {1}'.format(i, total_loss/n_batches))\n",
    "    print('Total time: {0} seconds'.format(time.time() - start_time))\n",
    "\n",
    "    # test the model\n",
    "    sess.run(test_init)\t\t\t# drawing samples from test_data\n",
    "    total_correct_preds = 0\n",
    "    try:\n",
    "        while True:\n",
    "            accuracy_batch = sess.run(accuracy)\n",
    "            total_correct_preds += accuracy_batch\n",
    "    except tf.errors.OutOfRangeError:\n",
    "        pass\n",
    "\n",
    "    print('Accuracy {0}'.format(total_correct_preds/n_test))\n",
    "writer.close()"
   ]
  },
  {
   "cell_type": "code",
   "execution_count": null,
   "metadata": {
    "collapsed": true
   },
   "outputs": [],
   "source": []
  }
 ],
 "metadata": {
  "kernelspec": {
   "display_name": "Python 3",
   "language": "python",
   "name": "python3"
  },
  "language_info": {
   "codemirror_mode": {
    "name": "ipython",
    "version": 3
   },
   "file_extension": ".py",
   "mimetype": "text/x-python",
   "name": "python",
   "nbconvert_exporter": "python",
   "pygments_lexer": "ipython3",
   "version": "3.6.0"
  }
 },
 "nbformat": 4,
 "nbformat_minor": 2
}
